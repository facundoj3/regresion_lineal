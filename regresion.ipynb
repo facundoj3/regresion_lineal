{
 "cells": [
  {
   "cell_type": "code",
   "execution_count": 18,
   "metadata": {},
   "outputs": [],
   "source": [
    "import pandas as pd\n",
    "import pyreadstat \n",
    "import numpy as np\n",
    "import statsmodels.api as sm"
   ]
  },
  {
   "cell_type": "code",
   "execution_count": 19,
   "metadata": {},
   "outputs": [],
   "source": [
    "df_diputados, meta = pyreadstat.read_sav('BASEDATOS_ARGENTINA_122_ .sav')"
   ]
  },
  {
   "cell_type": "code",
   "execution_count": 20,
   "metadata": {},
   "outputs": [
    {
     "name": "stdout",
     "output_type": "stream",
     "text": [
      "Package                   Version\n",
      "------------------------- --------------\n",
      "anyio                     4.2.0\n",
      "argon2-cffi               21.3.0\n",
      "argon2-cffi-bindings      21.2.0\n",
      "arrow                     1.3.0\n",
      "asttokens                 2.4.1\n",
      "async-lru                 2.0.4\n",
      "attrs                     23.1.0\n",
      "Babel                     2.11.0\n",
      "beautifulsoup4            4.12.3\n",
      "bleach                    4.1.0\n",
      "Bottleneck                1.3.7\n",
      "Brotli                    1.0.9\n",
      "certifi                   2024.8.30\n",
      "cffi                      1.16.0\n",
      "charset-normalizer        3.3.2\n",
      "colorama                  0.4.6\n",
      "comm                      0.2.2\n",
      "contourpy                 1.2.0\n",
      "cycler                    0.11.0\n",
      "debugpy                   1.6.7\n",
      "decorator                 5.1.1\n",
      "defusedxml                0.7.1\n",
      "et-xmlfile                1.1.0\n",
      "exceptiongroup            1.2.2\n",
      "executing                 2.1.0\n",
      "fastjsonschema            2.16.2\n",
      "fonttools                 4.51.0\n",
      "fqdn                      1.5.1\n",
      "greenlet                  3.1.0\n",
      "idna                      3.7\n",
      "importlib_metadata        8.4.0\n",
      "ipykernel                 6.29.5\n",
      "ipython                   8.27.0\n",
      "ipywidgets                8.1.2\n",
      "isoduration               20.11.0\n",
      "jedi                      0.19.1\n",
      "Jinja2                    3.1.4\n",
      "json5                     0.9.6\n",
      "jsonpointer               3.0.0\n",
      "jsonschema                4.19.2\n",
      "jsonschema-specifications 2023.7.1\n",
      "jupyter                   1.0.0\n",
      "jupyter_client            8.6.2\n",
      "jupyter-console           6.6.3\n",
      "jupyter_core              5.7.2\n",
      "jupyter-events            0.10.0\n",
      "jupyter-lsp               2.2.0\n",
      "jupyter_server            2.14.1\n",
      "jupyter_server_terminals  0.4.4\n",
      "jupyterlab                4.0.11\n",
      "jupyterlab-pygments       0.1.2\n",
      "jupyterlab_server         2.25.1\n",
      "jupyterlab-widgets        3.0.10\n",
      "kiwisolver                1.4.4\n",
      "MarkupSafe                2.1.3\n",
      "matplotlib                3.9.2\n",
      "matplotlib-inline         0.1.7\n",
      "mistune                   2.0.4\n",
      "mkl_fft                   1.3.10\n",
      "mkl_random                1.2.7\n",
      "mkl-service               2.4.0\n",
      "nbclient                  0.8.0\n",
      "nbconvert                 7.10.0\n",
      "nbformat                  5.9.2\n",
      "nest_asyncio              1.6.0\n",
      "notebook                  7.0.8\n",
      "notebook_shim             0.2.3\n",
      "numexpr                   2.8.7\n",
      "numpy                     1.26.4\n",
      "openpyxl                  3.1.5\n",
      "overrides                 7.4.0\n",
      "packaging                 24.1\n",
      "pandas                    2.2.2\n",
      "pandocfilters             1.5.0\n",
      "parso                     0.8.4\n",
      "patsy                     0.5.6\n",
      "pickleshare               0.7.5\n",
      "pillow                    10.4.0\n",
      "pip                       24.2\n",
      "platformdirs              4.2.2\n",
      "ply                       3.11\n",
      "prometheus-client         0.14.1\n",
      "prompt_toolkit            3.0.47\n",
      "psutil                    5.9.0\n",
      "pure_eval                 0.2.3\n",
      "pycparser                 2.21\n",
      "Pygments                  2.18.0\n",
      "pyparsing                 3.1.2\n",
      "PyQt5                     5.15.10\n",
      "PyQt5-sip                 12.13.0\n",
      "pyreadstat                1.2.8\n",
      "PySocks                   1.7.1\n",
      "python-dateutil           2.9.0.post0\n",
      "python-json-logger        2.0.7\n",
      "pytz                      2024.1\n",
      "pywin32                   305.1\n",
      "pywinpty                  2.0.10\n",
      "PyYAML                    6.0.1\n",
      "pyzmq                     25.1.2\n",
      "qtconsole                 5.5.1\n",
      "QtPy                      2.4.1\n",
      "referencing               0.30.2\n",
      "requests                  2.32.3\n",
      "rfc3339-validator         0.1.4\n",
      "rfc3986-validator         0.1.1\n",
      "rpds-py                   0.10.6\n",
      "scipy                     1.14.1\n",
      "seaborn                   0.13.2\n",
      "Send2Trash                1.8.2\n",
      "setuptools                72.1.0\n",
      "sip                       6.7.12\n",
      "six                       1.16.0\n",
      "sniffio                   1.3.0\n",
      "soupsieve                 2.5\n",
      "SQLAlchemy                2.0.34\n",
      "stack-data                0.6.2\n",
      "statsmodels               0.14.4\n",
      "terminado                 0.17.1\n",
      "themes                    0.0.5\n",
      "tinycss2                  1.2.1\n",
      "tornado                   6.4.1\n",
      "traitlets                 5.14.3\n",
      "types-python-dateutil     2.9.0.20240906\n",
      "typing_extensions         4.12.2\n",
      "tzdata                    2023.3\n",
      "unicodedata2              15.1.0\n",
      "uri-template              1.3.0\n",
      "urllib3                   2.2.2\n",
      "wcwidth                   0.2.13\n",
      "webcolors                 24.8.0\n",
      "webencodings              0.5.1\n",
      "websocket-client          1.8.0\n",
      "wheel                     0.43.0\n",
      "widgetsnbextension        4.0.10\n",
      "win-inet-pton             1.1.0\n",
      "xlrd                      2.0.1\n",
      "zipp                      3.20.1\n",
      "Note: you may need to restart the kernel to use updated packages.\n"
     ]
    }
   ],
   "source": [
    "pip list"
   ]
  },
  {
   "cell_type": "code",
   "execution_count": 21,
   "metadata": {},
   "outputs": [],
   "source": [
    "df_diputados = df_diputados.loc[~((df_diputados['ID101'] == 98) | (df_diputados['ID101'] == 99) | \n",
    "                                   (df_diputados['PRO102'] == 98) | (df_diputados['PRO112'] == 99))]"
   ]
  },
  {
   "cell_type": "code",
   "execution_count": 22,
   "metadata": {},
   "outputs": [
    {
     "data": {
      "text/plain": [
       "Index(['Encuestado', 'País', 'legis', 'partido', 'departa', 'tipoelec',\n",
       "       'comision01', 'comision02', 'comision03', 'comision04',\n",
       "       ...\n",
       "       'pcontacto2', 'pcontacto3', 'resultado1', 'resultado107', 'causaneg1',\n",
       "       'resultado2', 'causaneg2', 'resultado3', 'causaneg3', 'peso'],\n",
       "      dtype='object', length=266)"
      ]
     },
     "execution_count": 22,
     "metadata": {},
     "output_type": "execute_result"
    }
   ],
   "source": [
    "df_diputados.columns"
   ]
  },
  {
   "cell_type": "code",
   "execution_count": 23,
   "metadata": {},
   "outputs": [
    {
     "name": "stdout",
     "output_type": "stream",
     "text": [
      "a\n"
     ]
    }
   ],
   "source": [
    "if 'PRO2' in df_diputados:\n",
    "    print('a')\n",
    "else:\n",
    "    print('b')"
   ]
  },
  {
   "cell_type": "code",
   "execution_count": 24,
   "metadata": {},
   "outputs": [
    {
     "name": "stdout",
     "output_type": "stream",
     "text": [
      "PRO2\n",
      "5.0     77\n",
      "3.0      8\n",
      "8.0      5\n",
      "9.0      5\n",
      "6.0      3\n",
      "2.0      2\n",
      "1.0      1\n",
      "7.0      1\n",
      "12.0     1\n",
      "36.0     1\n",
      "18.0     1\n",
      "21.0     1\n",
      "24.0     1\n",
      "31.0     1\n",
      "42.0     1\n",
      "14.0     1\n",
      "Name: count, dtype: int64\n"
     ]
    }
   ],
   "source": [
    "frecuencias = df_diputados['PRO2'].value_counts()\n",
    "print(frecuencias)"
   ]
  },
  {
   "cell_type": "code",
   "execution_count": 25,
   "metadata": {},
   "outputs": [
    {
     "name": "stdout",
     "output_type": "stream",
     "text": [
      "tipoelec\n",
      "2.0    110\n",
      "Name: count, dtype: int64\n"
     ]
    }
   ],
   "source": [
    "frec_dip = df_diputados['tipoelec'].value_counts()\n",
    "print(frec_dip)"
   ]
  },
  {
   "cell_type": "code",
   "execution_count": 26,
   "metadata": {},
   "outputs": [
    {
     "data": {
      "text/plain": [
       "DEM1\n",
       "4.0    81\n",
       "3.0    26\n",
       "2.0     2\n",
       "1.0     1\n",
       "Name: count, dtype: int64"
      ]
     },
     "execution_count": 26,
     "metadata": {},
     "output_type": "execute_result"
    }
   ],
   "source": [
    "df_diputados['DEM1'].value_counts()"
   ]
  },
  {
   "cell_type": "code",
   "execution_count": 27,
   "metadata": {},
   "outputs": [],
   "source": [
    "encuestado = df_diputados['Encuestado']"
   ]
  },
  {
   "cell_type": "code",
   "execution_count": 28,
   "metadata": {},
   "outputs": [],
   "source": [
    "partido = df_diputados['partido'] # Variable independiente\n",
    "eval_desempleo = df_diputados['PRO101'] # PRO101 significaría el desempleo, midiendo de 1 a 10 qué tan importante es. Según entiendo, puede que no sea así."
   ]
  },
  {
   "cell_type": "code",
   "execution_count": 29,
   "metadata": {},
   "outputs": [
    {
     "name": "stdout",
     "output_type": "stream",
     "text": [
      "                            OLS Regression Results                            \n",
      "==============================================================================\n",
      "Dep. Variable:                 PRO101   R-squared:                       0.020\n",
      "Model:                            OLS   Adj. R-squared:                  0.011\n",
      "Method:                 Least Squares   F-statistic:                     2.211\n",
      "Date:                Mon, 28 Oct 2024   Prob (F-statistic):              0.140\n",
      "Time:                        17:49:19   Log-Likelihood:                -109.61\n",
      "No. Observations:                 110   AIC:                             223.2\n",
      "Df Residuals:                     108   BIC:                             228.6\n",
      "Df Model:                           1                                         \n",
      "Covariance Type:            nonrobust                                         \n",
      "==============================================================================\n",
      "                 coef    std err          t      P>|t|      [0.025      0.975]\n",
      "------------------------------------------------------------------------------\n",
      "const          9.8407      0.129     76.070      0.000       9.584      10.097\n",
      "partido       -0.0109      0.007     -1.487      0.140      -0.025       0.004\n",
      "==============================================================================\n",
      "Omnibus:                       49.355   Durbin-Watson:                   1.779\n",
      "Prob(Omnibus):                  0.000   Jarque-Bera (JB):              103.296\n",
      "Skew:                          -1.908   Prob(JB):                     3.71e-23\n",
      "Kurtosis:                       5.824   Cond. No.                         36.4\n",
      "==============================================================================\n",
      "\n",
      "Notes:\n",
      "[1] Standard Errors assume that the covariance matrix of the errors is correctly specified.\n"
     ]
    }
   ],
   "source": [
    "partido = sm.add_constant(partido) # Se agrega la constante para la ordenada al origen (el valor de Y cuando X=0).\n",
    "pro101_segun_partido = sm.OLS(eval_desempleo, partido).fit() # Esta línea calcula la regresión lineal.\n",
    "print(pro101_segun_partido.summary())\n"
   ]
  },
  {
   "cell_type": "code",
   "execution_count": 30,
   "metadata": {},
   "outputs": [],
   "source": [
    "massa = df_diputados['IDLN105']"
   ]
  },
  {
   "cell_type": "code",
   "execution_count": 31,
   "metadata": {},
   "outputs": [
    {
     "name": "stdout",
     "output_type": "stream",
     "text": [
      "                            OLS Regression Results                            \n",
      "==============================================================================\n",
      "Dep. Variable:                IDLN105   R-squared:                       0.049\n",
      "Model:                            OLS   Adj. R-squared:                  0.040\n",
      "Method:                 Least Squares   F-statistic:                     5.552\n",
      "Date:                Mon, 28 Oct 2024   Prob (F-statistic):             0.0203\n",
      "Time:                        17:49:19   Log-Likelihood:                -467.56\n",
      "No. Observations:                 110   AIC:                             939.1\n",
      "Df Residuals:                     108   BIC:                             944.5\n",
      "Df Model:                           1                                         \n",
      "Covariance Type:            nonrobust                                         \n",
      "==============================================================================\n",
      "                 coef    std err          t      P>|t|      [0.025      0.975]\n",
      "------------------------------------------------------------------------------\n",
      "const         16.0924      3.350      4.803      0.000       9.452      22.733\n",
      "partido       -0.4462      0.189     -2.356      0.020      -0.822      -0.071\n",
      "==============================================================================\n",
      "Omnibus:                      131.984   Durbin-Watson:                   1.650\n",
      "Prob(Omnibus):                  0.000   Jarque-Bera (JB):             2071.694\n",
      "Skew:                           4.431   Prob(JB):                         0.00\n",
      "Kurtosis:                      22.326   Cond. No.                         36.4\n",
      "==============================================================================\n",
      "\n",
      "Notes:\n",
      "[1] Standard Errors assume that the covariance matrix of the errors is correctly specified.\n"
     ]
    }
   ],
   "source": [
    "partido = sm.add_constant(partido) # Se agrega la constante para la ordenada al origen (el valor de Y cuando X=0).\n",
    "massa_segun_partido = sm.OLS(massa, partido).fit() # Esta línea calcula la regresión lineal.\n",
    "print(massa_segun_partido.summary())\n"
   ]
  },
  {
   "cell_type": "code",
   "execution_count": 32,
   "metadata": {},
   "outputs": [],
   "source": [
    "#disciplina de voto segun partido\n",
    "disciplina = df_diputados['DIS1']\n"
   ]
  },
  {
   "cell_type": "code",
   "execution_count": 33,
   "metadata": {},
   "outputs": [
    {
     "name": "stdout",
     "output_type": "stream",
     "text": [
      "                            OLS Regression Results                            \n",
      "==============================================================================\n",
      "Dep. Variable:                   DIS1   R-squared:                       0.059\n",
      "Model:                            OLS   Adj. R-squared:                  0.051\n",
      "Method:                 Least Squares   F-statistic:                     6.814\n",
      "Date:                Mon, 28 Oct 2024   Prob (F-statistic):             0.0103\n",
      "Time:                        17:49:19   Log-Likelihood:                -106.52\n",
      "No. Observations:                 110   AIC:                             217.0\n",
      "Df Residuals:                     108   BIC:                             222.4\n",
      "Df Model:                           1                                         \n",
      "Covariance Type:            nonrobust                                         \n",
      "==============================================================================\n",
      "                 coef    std err          t      P>|t|      [0.025      0.975]\n",
      "------------------------------------------------------------------------------\n",
      "const          2.9776      0.126     23.672      0.000       2.728       3.227\n",
      "partido       -0.0186      0.007     -2.610      0.010      -0.033      -0.004\n",
      "==============================================================================\n",
      "Omnibus:                       42.080   Durbin-Watson:                   2.090\n",
      "Prob(Omnibus):                  0.000   Jarque-Bera (JB):               74.093\n",
      "Skew:                          -1.771   Prob(JB):                     8.15e-17\n",
      "Kurtosis:                       4.904   Cond. No.                         36.4\n",
      "==============================================================================\n",
      "\n",
      "Notes:\n",
      "[1] Standard Errors assume that the covariance matrix of the errors is correctly specified.\n"
     ]
    }
   ],
   "source": [
    "partido = sm.add_constant(partido) # Se agrega la constante para la ordenada al origen (el valor de Y cuando X=0).\n",
    "disciplina_segun_partido = sm.OLS(disciplina, partido).fit() # Esta línea calcula la regresión lineal.\n",
    "print(disciplina_segun_partido.summary())\n"
   ]
  },
  {
   "cell_type": "code",
   "execution_count": 34,
   "metadata": {},
   "outputs": [],
   "source": [
    "alberto = df_diputados['IDLN101']\n",
    "patriciabull = df_diputados['IDLN102']\n",
    "cristina = df_diputados['IDLN103']\n",
    "milei = df_diputados['IDLN104']\n",
    "macri = df_diputados['IDLN106']"
   ]
  },
  {
   "cell_type": "code",
   "execution_count": 35,
   "metadata": {},
   "outputs": [],
   "source": [
    "import matplotlib.pyplot as plt"
   ]
  },
  {
   "cell_type": "code",
   "execution_count": 36,
   "metadata": {},
   "outputs": [
    {
     "data": {
      "text/plain": [
       "DIS1\n",
       "3.0    88\n",
       "1.0    12\n",
       "2.0    10\n",
       "Name: count, dtype: int64"
      ]
     },
     "execution_count": 36,
     "metadata": {},
     "output_type": "execute_result"
    }
   ],
   "source": [
    "df_diputados['DIS1'].value_counts()"
   ]
  },
  {
   "cell_type": "code",
   "execution_count": 37,
   "metadata": {},
   "outputs": [
    {
     "name": "stdout",
     "output_type": "stream",
     "text": [
      "                            OLS Regression Results                            \n",
      "==============================================================================\n",
      "Dep. Variable:                IDLN102   R-squared:                       0.015\n",
      "Model:                            OLS   Adj. R-squared:                  0.006\n",
      "Method:                 Least Squares   F-statistic:                     1.685\n",
      "Date:                Mon, 28 Oct 2024   Prob (F-statistic):              0.197\n",
      "Time:                        17:49:20   Log-Likelihood:                -466.45\n",
      "No. Observations:                 110   AIC:                             936.9\n",
      "Df Residuals:                     108   BIC:                             942.3\n",
      "Df Model:                           1                                         \n",
      "Covariance Type:            nonrobust                                         \n",
      "==============================================================================\n",
      "                 coef    std err          t      P>|t|      [0.025      0.975]\n",
      "------------------------------------------------------------------------------\n",
      "const          8.2870      3.317      2.499      0.014       1.713      14.861\n",
      "partido        0.2433      0.187      1.298      0.197      -0.128       0.615\n",
      "==============================================================================\n",
      "Omnibus:                      140.892   Durbin-Watson:                   2.117\n",
      "Prob(Omnibus):                  0.000   Jarque-Bera (JB):             2602.954\n",
      "Skew:                           4.832   Prob(JB):                         0.00\n",
      "Kurtosis:                      24.783   Cond. No.                         36.4\n",
      "==============================================================================\n",
      "\n",
      "Notes:\n",
      "[1] Standard Errors assume that the covariance matrix of the errors is correctly specified.\n"
     ]
    }
   ],
   "source": [
    "partido = sm.add_constant(partido) # Se agrega la constante para la ordenada al origen (el valor de Y cuando X=0).\n",
    "bullrich_segun_partido = sm.OLS(patriciabull, partido).fit() # Esta línea calcula la regresión lineal.\n",
    "print(bullrich_segun_partido.summary())"
   ]
  },
  {
   "cell_type": "code",
   "execution_count": 38,
   "metadata": {},
   "outputs": [
    {
     "name": "stdout",
     "output_type": "stream",
     "text": [
      "                            OLS Regression Results                            \n",
      "==============================================================================\n",
      "Dep. Variable:                IDLN104   R-squared:                       0.028\n",
      "Model:                            OLS   Adj. R-squared:                  0.019\n",
      "Method:                 Least Squares   F-statistic:                     3.069\n",
      "Date:                Mon, 28 Oct 2024   Prob (F-statistic):             0.0826\n",
      "Time:                        17:49:20   Log-Likelihood:                -389.62\n",
      "No. Observations:                 110   AIC:                             783.2\n",
      "Df Residuals:                     108   BIC:                             788.6\n",
      "Df Model:                           1                                         \n",
      "Covariance Type:            nonrobust                                         \n",
      "==============================================================================\n",
      "                 coef    std err          t      P>|t|      [0.025      0.975]\n",
      "------------------------------------------------------------------------------\n",
      "const          7.7951      1.649      4.726      0.000       4.526      11.065\n",
      "partido        0.1634      0.093      1.752      0.083      -0.021       0.348\n",
      "==============================================================================\n",
      "Omnibus:                      229.748   Durbin-Watson:                   2.008\n",
      "Prob(Omnibus):                  0.000   Jarque-Bera (JB):            44398.764\n",
      "Skew:                           9.704   Prob(JB):                         0.00\n",
      "Kurtosis:                      99.490   Cond. No.                         36.4\n",
      "==============================================================================\n",
      "\n",
      "Notes:\n",
      "[1] Standard Errors assume that the covariance matrix of the errors is correctly specified.\n"
     ]
    }
   ],
   "source": [
    "partido = sm.add_constant(partido) # Se agrega la constante para la ordenada al origen (el valor de Y cuando X=0).\n",
    "milei_segun_partido = sm.OLS(milei, partido).fit() # Esta línea calcula la regresión lineal.\n",
    "print(milei_segun_partido.summary())"
   ]
  },
  {
   "cell_type": "code",
   "execution_count": 39,
   "metadata": {},
   "outputs": [
    {
     "data": {
      "text/plain": [
       "partido\n",
       "20.0    49\n",
       "7.0     22\n",
       "2.0     17\n",
       "29.0    13\n",
       "14.0     5\n",
       "21.0     4\n",
       "Name: count, dtype: int64"
      ]
     },
     "execution_count": 39,
     "metadata": {},
     "output_type": "execute_result"
    }
   ],
   "source": [
    "df_diputados['partido'].value_counts()"
   ]
  },
  {
   "cell_type": "code",
   "execution_count": 40,
   "metadata": {},
   "outputs": [],
   "source": [
    "em1 = df_diputados['EM101']"
   ]
  },
  {
   "cell_type": "code",
   "execution_count": 41,
   "metadata": {},
   "outputs": [
    {
     "name": "stdout",
     "output_type": "stream",
     "text": [
      "                            OLS Regression Results                            \n",
      "==============================================================================\n",
      "Dep. Variable:                IDLN105   R-squared:                       0.010\n",
      "Model:                            OLS   Adj. R-squared:                  0.001\n",
      "Method:                 Least Squares   F-statistic:                     1.120\n",
      "Date:                Mon, 28 Oct 2024   Prob (F-statistic):              0.292\n",
      "Time:                        17:49:20   Log-Likelihood:                -469.75\n",
      "No. Observations:                 110   AIC:                             943.5\n",
      "Df Residuals:                     108   BIC:                             948.9\n",
      "Df Model:                           1                                         \n",
      "Covariance Type:            nonrobust                                         \n",
      "==============================================================================\n",
      "                 coef    std err          t      P>|t|      [0.025      0.975]\n",
      "------------------------------------------------------------------------------\n",
      "const          6.1940      3.293      1.881      0.063      -0.332      12.720\n",
      "Encuestado     0.0230      0.022      1.058      0.292      -0.020       0.066\n",
      "==============================================================================\n",
      "Omnibus:                      140.976   Durbin-Watson:                   1.603\n",
      "Prob(Omnibus):                  0.000   Jarque-Bera (JB):             2610.537\n",
      "Skew:                           4.836   Prob(JB):                         0.00\n",
      "Kurtosis:                      24.818   Cond. No.                         300.\n",
      "==============================================================================\n",
      "\n",
      "Notes:\n",
      "[1] Standard Errors assume that the covariance matrix of the errors is correctly specified.\n"
     ]
    }
   ],
   "source": [
    "encuestado = sm.add_constant(encuestado) # Se agrega la constante para la ordenada al origen (el valor de Y cuando X=0).\n",
    "massa_segun_encuestado = sm.OLS(massa, encuestado).fit() # Esta línea calcula la regresión lineal.\n",
    "print(massa_segun_encuestado.summary())"
   ]
  },
  {
   "cell_type": "code",
   "execution_count": 42,
   "metadata": {},
   "outputs": [
    {
     "data": {
      "image/png": "[encoded data removed]",
      "text/plain": [
       "<Figure size 640x480 with 1 Axes>"
      ]
     },
     "metadata": {},
     "output_type": "display_data"
    }
   ],
   "source": [
    "Encuestado = np.random.normal(size=110)\n",
    "IDLN105 = 6.1940 + 0.0230 * Encuestado  # Línea de regresión basada en el coeficiente\n",
    "\n",
    "# Gráfico de dispersión y línea de regresión\n",
    "plt.scatter(Encuestado, IDLN105, color='blue', label='Datos')\n",
    "plt.plot(Encuestado, 6.1940 + 0.0230 * Encuestado, color='red', label='Línea de Regresión')\n",
    "\n",
    "# Etiquetas y título\n",
    "plt.xlabel('Encuestado')\n",
    "plt.ylabel('IDLN105')\n",
    "plt.title('Regresión Lineal Simple')\n",
    "plt.legend()\n",
    "\n",
    "plt.show()"
   ]
  },
  {
   "cell_type": "code",
   "execution_count": 43,
   "metadata": {},
   "outputs": [
    {
     "name": "stdout",
     "output_type": "stream",
     "text": [
      "                            OLS Regression Results                            \n",
      "==============================================================================\n",
      "Dep. Variable:                  EM101   R-squared:                       0.001\n",
      "Model:                            OLS   Adj. R-squared:                 -0.008\n",
      "Method:                 Least Squares   F-statistic:                    0.1318\n",
      "Date:                Mon, 28 Oct 2024   Prob (F-statistic):              0.717\n",
      "Time:                        17:49:20   Log-Likelihood:                -251.30\n",
      "No. Observations:                 110   AIC:                             506.6\n",
      "Df Residuals:                     108   BIC:                             512.0\n",
      "Df Model:                           1                                         \n",
      "Covariance Type:            nonrobust                                         \n",
      "==============================================================================\n",
      "                 coef    std err          t      P>|t|      [0.025      0.975]\n",
      "------------------------------------------------------------------------------\n",
      "const          5.1597      0.452     11.418      0.000       4.264       6.055\n",
      "Encuestado    -0.0011      0.003     -0.363      0.717      -0.007       0.005\n",
      "==============================================================================\n",
      "Omnibus:                       15.897   Durbin-Watson:                   2.245\n",
      "Prob(Omnibus):                  0.000   Jarque-Bera (JB):                4.951\n",
      "Skew:                          -0.152   Prob(JB):                       0.0841\n",
      "Kurtosis:                       2.006   Cond. No.                         300.\n",
      "==============================================================================\n",
      "\n",
      "Notes:\n",
      "[1] Standard Errors assume that the covariance matrix of the errors is correctly specified.\n"
     ]
    }
   ],
   "source": [
    "encuestado = sm.add_constant(encuestado) # Se agrega la constante para la ordenada al origen (el valor de Y cuando X=0).\n",
    "em1_segun_encuestado = sm.OLS(em1, encuestado).fit() # Esta línea calcula la regresión lineal.\n",
    "print(em1_segun_encuestado.summary())"
   ]
  },
  {
   "cell_type": "code",
   "execution_count": 44,
   "metadata": {},
   "outputs": [
    {
     "data": {
      "image/png": "[encoded data removed]",
      "text/plain": [
       "<Figure size 640x480 with 1 Axes>"
      ]
     },
     "metadata": {},
     "output_type": "display_data"
    }
   ],
   "source": [
    "prediccion_em1 = em1_segun_encuestado.predict(encuestado)  # Calcula las predicciones\n",
    "\n",
    "# Gráfico de dispersión y línea de regresión\n",
    "plt.scatter(encuestado['Encuestado'], em1, color='blue', label='Datos')  # Reemplaza 'Encuestado' con el nombre correcto de la columna\n",
    "plt.plot(encuestado['Encuestado'], prediccion_em1, color='red', label='Línea de Regresión')\n",
    "\n",
    "# Etiquetas y título\n",
    "plt.xlabel('Em1')\n",
    "plt.ylabel('Encuestado')\n",
    "plt.title('Regresión Lineal de Em1 vs Encuestado')\n",
    "plt.legend()\n",
    "\n",
    "plt.show()"
   ]
  },
  {
   "cell_type": "code",
   "execution_count": 50,
   "metadata": {},
   "outputs": [],
   "source": [
    "alberto = df_diputados['IDLN101']\n",
    "patriciabull = df_diputados['IDLN102']\n",
    "cristina = df_diputados['IDLN103']\n",
    "milei = df_diputados['IDLN104']\n",
    "macri = df_diputados['IDLN106']\n",
    "massa = df_diputados['IDLN105']"
   ]
  },
  {
   "cell_type": "code",
   "execution_count": 51,
   "metadata": {},
   "outputs": [],
   "source": [
    "eval_fdt = df_diputados['IDP101']\n",
    "eval_bullrich = df_diputados ['IDLN102']\n",
    "eval_cfk = df_diputados ['IDLN103']\n",
    "eval_milei = df_diputados ['IDLN104']"
   ]
  },
  {
   "cell_type": "code",
   "execution_count": 56,
   "metadata": {},
   "outputs": [],
   "source": [
    "eval_fdt = df_diputados.loc[~(df_diputados['IDP101'] == 98.0) | (df_diputados['IDP101'] == 99.0)] "
   ]
  },
  {
   "cell_type": "code",
   "execution_count": 57,
   "metadata": {},
   "outputs": [],
   "source": [
    "eval_bullrich =  df_diputados.loc[~(df_diputados['IDLN102'] == 98.0) | (df_diputados['IDLN102'] == 99.0)] \n",
    "eval_cfk = df_diputados.loc[~(df_diputados['IDLN103'] == 98.0) | (df_diputados['IDLN103'] == 99.0)] \n",
    "eval_milei =  df_diputados.loc[~(df_diputados['IDLN104'] == 98.0) | (df_diputados['IDLN104'] == 99.0)] "
   ]
  },
  {
   "cell_type": "code",
   "execution_count": 59,
   "metadata": {},
   "outputs": [],
   "source": [
    "eval_bullrich_aligned = eval_bullrich.reindex(eval_fdt.index)\n"
   ]
  }
 ],
 "metadata": {
  "kernelspec": {
   "display_name": "MAOP",
   "language": "python",
   "name": "python3"
  },
  "language_info": {
   "codemirror_mode": {
    "name": "ipython",
    "version": 3
   },
   "file_extension": ".py",
   "mimetype": "text/x-python",
   "name": "python",
   "nbconvert_exporter": "python",
   "pygments_lexer": "ipython3",
   "version": "3.12.4"
  }
 },
 "nbformat": 4,
 "nbformat_minor": 2
}
