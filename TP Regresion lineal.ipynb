{
 "cells": [
  {
   "cell_type": "code",
   "execution_count": 1,
   "id": "fb617f16-85ca-4a8c-9a8b-de15f2382b0d",
   "metadata": {},
   "outputs": [],
   "source": [
    "import pandas as pd\n",
    "import numpy as np\n",
    "import statsmodels.api as sm\n",
    "import pyreadstat"
   ]
  },
  {
   "cell_type": "code",
   "execution_count": 71,
   "id": "748c9ef2-41f5-45e7-93f3-0aba410bf44e",
   "metadata": {},
   "outputs": [],
   "source": [
    "diputados, meta = pyreadstat.read_sav('Ejercitación regresión/BASEDATOS_ARGENTINA_122_ .sav')\n",
    "#print(diputados['ID101'])\n",
    "partido = diputados['partido'] # Variable independiente\n",
    "eval_desempleo = diputados['PRO101'] # PRO101 significaría el desempleo, midiendo de 1 a 10 qué tan importante es. Según entiendo, puede que no sea así."
   ]
  },
  {
   "cell_type": "code",
   "execution_count": 89,
   "id": "0f83d2a3-7be1-4d01-a627-5f4b4c66e453",
   "metadata": {},
   "outputs": [
    {
     "name": "stdout",
     "output_type": "stream",
     "text": [
      "                            OLS Regression Results                            \n",
      "==============================================================================\n",
      "Dep. Variable:                 PRO101   R-squared:                       0.013\n",
      "Model:                            OLS   Adj. R-squared:                  0.004\n",
      "Method:                 Least Squares   F-statistic:                     1.475\n",
      "Date:                Mon, 28 Oct 2024   Prob (F-statistic):              0.227\n",
      "Time:                        01:00:33   Log-Likelihood:                -113.58\n",
      "No. Observations:                 111   AIC:                             231.2\n",
      "Df Residuals:                     109   BIC:                             236.6\n",
      "Df Model:                           1                                         \n",
      "Covariance Type:            nonrobust                                         \n",
      "==============================================================================\n",
      "                 coef    std err          t      P>|t|      [0.025      0.975]\n",
      "------------------------------------------------------------------------------\n",
      "const          9.7973      0.132     74.335      0.000       9.536      10.059\n",
      "partido       -0.0091      0.007     -1.215      0.227      -0.024       0.006\n",
      "==============================================================================\n",
      "Omnibus:                       46.823   Durbin-Watson:                   1.830\n",
      "Prob(Omnibus):                  0.000   Jarque-Bera (JB):               91.446\n",
      "Skew:                          -1.852   Prob(JB):                     1.39e-20\n",
      "Kurtosis:                       5.461   Cond. No.                         36.1\n",
      "==============================================================================\n",
      "\n",
      "Notes:\n",
      "[1] Standard Errors assume that the covariance matrix of the errors is correctly specified.\n"
     ]
    },
    {
     "data": {
      "text/plain": [
       "'\\nRepetir dos veces más. Por ejemplo, con:\\n    - \"departa\" y \"partido\" (departamento).\\n    - \"departa\" y \"PRO103\" (que sería el problema de la pobreza, creo).\\n'"
      ]
     },
     "execution_count": 89,
     "metadata": {},
     "output_type": "execute_result"
    }
   ],
   "source": [
    "#print(partido)\n",
    "#print(eval_desempleo)\n",
    "partido = sm.add_constant(partido) # Se agrega la constante para la ordenada al origen (el valor de Y cuando X=0).\n",
    "pro101_segun_partido = sm.OLS(eval_desempleo, partido).fit() # Esta línea calcula la regresión lineal.\n",
    "print(pro101_segun_partido.summary())\n",
    "\n",
    "'''\n",
    "Repetir dos veces más. Por ejemplo, con:\n",
    "    - \"departa\" y \"partido\" (departamento).\n",
    "    - \"departa\" y \"PRO103\" (que sería el problema de la pobreza, creo).\n",
    "'''\n",
    "\n",
    "## Después de lo anterior, interpretar los resultados de las tres regresiones."
   ]
  },
  {
   "cell_type": "code",
   "execution_count": null,
   "id": "851096c2-70a3-493a-b494-a3494ef815b7",
   "metadata": {},
   "outputs": [],
   "source": []
  }
 ],
 "metadata": {
  "kernelspec": {
   "display_name": "Python 3 (ipykernel)",
   "language": "python",
   "name": "python3"
  },
  "language_info": {
   "codemirror_mode": {
    "name": "ipython",
    "version": 3
   },
   "file_extension": ".py",
   "mimetype": "text/x-python",
   "name": "python",
   "nbconvert_exporter": "python",
   "pygments_lexer": "ipython3",
   "version": "3.12.4"
  }
 },
 "nbformat": 4,
 "nbformat_minor": 5
}
