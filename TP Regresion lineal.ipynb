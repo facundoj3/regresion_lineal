{
 "cells": [
  {
   "cell_type": "code",
   "execution_count": 35,
   "id": "fb617f16-85ca-4a8c-9a8b-de15f2382b0d",
   "metadata": {},
   "outputs": [],
   "source": [
    "import pandas as pd\n",
    "import numpy as np\n",
    "import statsmodels.api as sm\n",
    "import pyreadstat\n",
    "import seaborn as sns"
   ]
  },
  {
   "cell_type": "code",
   "execution_count": 46,
   "id": "748c9ef2-41f5-45e7-93f3-0aba410bf44e",
   "metadata": {},
   "outputs": [],
   "source": [
    "diputados, meta = pyreadstat.read_sav('Ejercitación regresión/BASEDATOS_ARGENTINA_122_ .sav')\n",
    "eval_fdt = diputados['IDP101']\n",
    "eval_bullrich = diputados['IDLN102']\n",
    "eval_cfk = diputados['IDLN103']\n",
    "eval_milei = diputados['IDLN104']"
   ]
  },
  {
   "cell_type": "code",
   "execution_count": 39,
   "id": "0f83d2a3-7be1-4d01-a627-5f4b4c66e453",
   "metadata": {},
   "outputs": [
    {
     "name": "stdout",
     "output_type": "stream",
     "text": [
      "                            OLS Regression Results                            \n",
      "==============================================================================\n",
      "Dep. Variable:                 PRO101   R-squared:                       0.000\n",
      "Model:                            OLS   Adj. R-squared:                 -0.009\n",
      "Method:                 Least Squares   F-statistic:                   0.03408\n",
      "Date:                Mon, 28 Oct 2024   Prob (F-statistic):              0.854\n",
      "Time:                        17:51:07   Log-Likelihood:                -114.31\n",
      "No. Observations:                 111   AIC:                             232.6\n",
      "Df Residuals:                     109   BIC:                             238.0\n",
      "Df Model:                           1                                         \n",
      "Covariance Type:            nonrobust                                         \n",
      "==============================================================================\n",
      "                 coef    std err          t      P>|t|      [0.025      0.975]\n",
      "------------------------------------------------------------------------------\n",
      "const          9.6639      0.073    132.156      0.000       9.519       9.809\n",
      "IDLN105       -0.0006      0.003     -0.185      0.854      -0.007       0.006\n",
      "==============================================================================\n",
      "Omnibus:                       47.802   Durbin-Watson:                   1.801\n",
      "Prob(Omnibus):                  0.000   Jarque-Bera (JB):               94.861\n",
      "Skew:                          -1.883   Prob(JB):                     2.52e-21\n",
      "Kurtosis:                       5.517   Cond. No.                         24.5\n",
      "==============================================================================\n",
      "\n",
      "Notes:\n",
      "[1] Standard Errors assume that the covariance matrix of the errors is correctly specified.\n"
     ]
    },
    {
     "data": {
      "text/plain": [
       "'\\nRepetir dos veces más. Por ejemplo, con:\\n    - \"departa\" y \"partido\" (departamento).\\n    - \"departa\" y \"PRO103\" (que sería el problema de la pobreza, creo).\\n'"
      ]
     },
     "execution_count": 39,
     "metadata": {},
     "output_type": "execute_result"
    }
   ],
   "source": [
    "#print(partido)\n",
    "#print(eval_desempleo)\n",
    "eval_massa = sm.add_constant(eval_massa) # Se agrega la constante para la ordenada al origen (el valor de Y cuando X=0).\n",
    "pro101_segun_eval_massa = sm.OLS(eval_desempleo, eval_massa).fit() # Esta línea calcula la regresión lineal.\n",
    "print(pro101_segun_eval_massa.summary())\n",
    "\n",
    "'''\n",
    "Repetir dos veces más. Por ejemplo, con:\n",
    "    - \"departa\" y \"partido\" (departamento).\n",
    "    - \"departa\" y \"PRO103\" (que sería el problema de la pobreza, creo).\n",
    "'''\n",
    "\n",
    "## Después de lo anterior, interpretar los resultados de las tres regresiones."
   ]
  },
  {
   "cell_type": "code",
   "execution_count": null,
   "id": "955279d7-5479-44f7-bfee-b3d7d50a2b64",
   "metadata": {},
   "outputs": [],
   "source": []
  }
 ],
 "metadata": {
  "kernelspec": {
   "display_name": "Python 3 (ipykernel)",
   "language": "python",
   "name": "python3"
  },
  "language_info": {
   "codemirror_mode": {
    "name": "ipython",
    "version": 3
   },
   "file_extension": ".py",
   "mimetype": "text/x-python",
   "name": "python",
   "nbconvert_exporter": "python",
   "pygments_lexer": "ipython3",
   "version": "3.12.4"
  }
 },
 "nbformat": 4,
 "nbformat_minor": 5
}
